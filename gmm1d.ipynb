{
 "cells": [
  {
   "cell_type": "code",
   "execution_count": 1,
   "metadata": {},
   "outputs": [],
   "source": [
    "import jax.numpy as jnp\n",
    "import numpyro\n",
    "import numpyro.distributions as dist\n",
    "from jax import disable_jit, random\n",
    "from numpyro.infer import HMC, MCMC, NUTS, HMCGibbs, Predictive, discrete_gibbs_fn\n",
    "from numpyro.util import control_flow_prims_disabled, optional\n",
    "\n",
    "\n",
    "def model(probs, locs):\n",
    "    c = numpyro.sample(\"c\", dist.Categorical(probs))\n",
    "    numpyro.sample(\"x\", dist.Normal(locs[c], jnp.sqrt(0.1)))\n",
    "\n",
    "\n",
    "probs = jnp.array([0.15, 0.3, 0.3, 0.25])\n",
    "locs = jnp.array([-2, 0, 2, 4])\n",
    "predictive = Predictive(model, {}, num_samples=int(1e7), return_sites=[\"x\"])\n",
    "actual_samples = predictive(random.PRNGKey(1), probs, locs)[\"x\"]"
   ]
  },
  {
   "cell_type": "code",
   "execution_count": 2,
   "metadata": {},
   "outputs": [
    {
     "name": "stdout",
     "output_type": "stream",
     "text": [
      "\n",
      "                mean       std    median      5.0%     95.0%     n_eff     r_hat\n",
      "         c      1.65      1.01      2.00      0.00      3.00   9438.68      1.00\n",
      "         x      1.30      2.05      1.69     -2.06      4.33   9648.24      1.00\n",
      "\n",
      "CPU times: user 1min 8s, sys: 131 ms, total: 1min 8s\n",
      "Wall time: 1min 8s\n"
     ]
    }
   ],
   "source": [
    "%%time\n",
    "inner_kernel = NUTS(model)\n",
    "gibbs_fn = discrete_gibbs_fn(model, (probs, locs), modified=True)\n",
    "kernel = HMCGibbs(NUTS(model), gibbs_fn, gibbs_sites=[\"c\"])\n",
    "mcmc = MCMC(kernel, 1000, int(2e7), progress_bar=False, thinning=20)\n",
    "mcmc.run(random.PRNGKey(0), probs, locs)\n",
    "mcmc.print_summary()\n",
    "x_samples = mcmc.get_samples()[\"x\"]\n",
    "assert abs(jnp.mean(x_samples) - 1.3) < 0.1\n",
    "assert abs(jnp.var(x_samples) - 4.36) < 0.5"
   ]
  },
  {
   "cell_type": "code",
   "execution_count": 3,
   "metadata": {},
   "outputs": [
    {
     "name": "stdout",
     "output_type": "stream",
     "text": [
      "\n",
      "                mean       std    median      5.0%     95.0%     n_eff     r_hat\n",
      "         c      1.64      1.02      2.00      0.00      3.00   5089.30      1.00\n",
      "         x      1.28      2.06      1.67     -2.09      4.31   5200.65      1.00\n",
      "\n",
      "CPU times: user 26.2 s, sys: 64 ms, total: 26.2 s\n",
      "Wall time: 26.2 s\n"
     ]
    }
   ],
   "source": [
    "%%time\n",
    "from numpyro.infer.mixed_hmc import MixedHMC\n",
    "\n",
    "inner_kernel = HMC(model, step_size=0.6, trajectory_length=20 * 0.6)\n",
    "kernel = MixedHMC(inner_kernel, discrete_sites=[\"c\"], num_trajectories=20)\n",
    "mcmc = MCMC(kernel, 1000, int(1e6), progress_bar=False)\n",
    "debug = False\n",
    "with optional(debug, disable_jit()), optional(debug, control_flow_prims_disabled()):\n",
    "    mcmc.run(random.PRNGKey(0), probs, locs)\n",
    "mcmc.print_summary()\n",
    "x_samples = mcmc.get_samples()[\"x\"]\n",
    "assert abs(jnp.mean(x_samples) - 1.3) < 0.1\n",
    "assert abs(jnp.var(x_samples) - 4.36) < 0.5"
   ]
  },
  {
   "cell_type": "code",
   "execution_count": 4,
   "metadata": {},
   "outputs": [
    {
     "name": "stdout",
     "output_type": "stream",
     "text": [
      "\n",
      "                mean       std    median      5.0%     95.0%     n_eff     r_hat\n",
      "         c      1.66      1.01      2.00      0.00      3.00   8075.86      1.00\n",
      "         x      1.32      2.05      1.71     -2.04      4.35   8255.01      1.00\n",
      "\n",
      "CPU times: user 53.2 s, sys: 83.9 ms, total: 53.3 s\n",
      "Wall time: 53.2 s\n"
     ]
    }
   ],
   "source": [
    "%%time\n",
    "from numpyro.infer.mixed_hmc import MixedHMCGibbs\n",
    "\n",
    "inner_kernel = NUTS(model)\n",
    "kernel = MixedHMCGibbs(inner_kernel, discrete_sites=[\"c\"], num_trajectories=20)\n",
    "mcmc = MCMC(kernel, 1000, int(1e6), progress_bar=False)\n",
    "debug = False\n",
    "with optional(debug, disable_jit()), optional(debug, control_flow_prims_disabled()):\n",
    "    mcmc.run(random.PRNGKey(0), probs, locs)\n",
    "mcmc.print_summary()\n",
    "x_samples = mcmc.get_samples()[\"x\"]\n",
    "assert abs(jnp.mean(x_samples) - 1.3) < 0.1\n",
    "assert abs(jnp.var(x_samples) - 4.36) < 0.5"
   ]
  },
  {
   "cell_type": "code",
   "execution_count": 5,
   "metadata": {},
   "outputs": [
    {
     "data": {
      "image/png": "[encoded data removed]",
      "text/plain": [
       "<Figure size 432x288 with 1 Axes>"
      ]
     },
     "metadata": {
      "needs_background": "light"
     },
     "output_type": "display_data"
    }
   ],
   "source": [
    "import matplotlib.pyplot as plt\n",
    "import seaborn as sns\n",
    "\n",
    "sns.kdeplot(x_samples.reshape(-1).copy())\n",
    "sns.kdeplot(actual_samples.copy(), color=\"r\");"
   ]
  }
 ],
 "metadata": {
  "kernelspec": {
   "display_name": "Python 3",
   "language": "python",
   "name": "python3"
  },
  "language_info": {
   "codemirror_mode": {
    "name": "ipython",
    "version": 3
   },
   "file_extension": ".py",
   "mimetype": "text/x-python",
   "name": "python",
   "nbconvert_exporter": "python",
   "pygments_lexer": "ipython3",
   "version": "3.8.5"
  }
 },
 "nbformat": 4,
 "nbformat_minor": 4
}
