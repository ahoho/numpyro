{
 "cells": [
  {
   "cell_type": "code",
   "execution_count": 1,
   "metadata": {},
   "outputs": [],
   "source": [
    "import jax.numpy as jnp\n",
    "import numpyro\n",
    "import numpyro.distributions as dist\n",
    "from jax import disable_jit, random\n",
    "from numpyro.infer import HMC, MCMC, NUTS, DiscreteHMCGibbs, HMCGibbs, Predictive\n",
    "from numpyro.util import control_flow_prims_disabled, optional\n",
    "\n",
    "\n",
    "def model(probs, locs):\n",
    "    c = numpyro.sample(\"c\", dist.Categorical(probs))\n",
    "    numpyro.sample(\"x\", dist.Normal(locs[c], jnp.sqrt(0.1)))\n",
    "\n",
    "\n",
    "probs = jnp.array([0.15, 0.3, 0.3, 0.25])\n",
    "locs = jnp.array([-2, 0, 2, 4])\n",
    "predictive = Predictive(model, {}, num_samples=int(1e7), return_sites=[\"x\"])\n",
    "actual_samples = predictive(random.PRNGKey(1), probs, locs)[\"x\"]"
   ]
  },
  {
   "cell_type": "code",
   "execution_count": 8,
   "metadata": {},
   "outputs": [
    {
     "name": "stdout",
     "output_type": "stream",
     "text": [
      "\n",
      "                mean       std    median      5.0%     95.0%     n_eff     r_hat\n",
      "         c      1.66      1.00      2.00      0.00      3.00    551.24      1.00\n",
      "         x      1.33      2.02      1.71     -2.04      4.33    564.43      1.00\n",
      "\n",
      "CPU times: user 6.14 s, sys: 31.8 ms, total: 6.17 s\n",
      "Wall time: 6.11 s\n"
     ]
    }
   ],
   "source": [
    "%%time\n",
    "inner_kernel = NUTS(model)\n",
    "kernel = DiscreteHMCGibbs(NUTS(model), modified=True)\n",
    "mcmc = MCMC(kernel, 1000, int(1e6), progress_bar=False)\n",
    "mcmc.run(random.PRNGKey(0), probs, locs)\n",
    "mcmc.print_summary()\n",
    "x_samples = mcmc.get_samples()[\"x\"]\n",
    "assert abs(jnp.mean(x_samples) - 1.3) < 0.1\n",
    "assert abs(jnp.var(x_samples) - 4.36) < 0.5"
   ]
  },
  {
   "cell_type": "code",
   "execution_count": 7,
   "metadata": {},
   "outputs": [
    {
     "name": "stdout",
     "output_type": "stream",
     "text": [
      "\n",
      "                mean       std    median      5.0%     95.0%     n_eff     r_hat\n",
      "         c      1.68      1.01      2.00      0.00      3.00   5192.67      1.00\n",
      "         x      1.36      2.04      1.74     -2.03      4.35   5309.70      1.00\n",
      "\n",
      "CPU times: user 26.8 s, sys: 61.5 ms, total: 26.9 s\n",
      "Wall time: 26.8 s\n"
     ]
    }
   ],
   "source": [
    "%%time\n",
    "from numpyro.infer.mixed_hmc import MixedHMC\n",
    "\n",
    "inner_kernel = HMC(model, step_size=0.6, trajectory_length=20 * 0.6)\n",
    "kernel = MixedHMC(inner_kernel, num_trajectories=20)\n",
    "mcmc = MCMC(kernel, 1000, int(1e6), progress_bar=False)\n",
    "debug = False\n",
    "with optional(debug, disable_jit()), optional(debug, control_flow_prims_disabled()):\n",
    "    mcmc.run(random.PRNGKey(0), probs, locs)\n",
    "mcmc.print_summary()\n",
    "x_samples = mcmc.get_samples()[\"x\"]\n",
    "assert abs(jnp.mean(x_samples) - 1.3) < 0.1\n",
    "assert abs(jnp.var(x_samples) - 4.36) < 0.5"
   ]
  },
  {
   "cell_type": "code",
   "execution_count": 3,
   "metadata": {},
   "outputs": [
    {
     "name": "stdout",
     "output_type": "stream",
     "text": [
      "step Traced<ShapedArray(int32[])>with<DynamicJaxprTrace(level=2/0)> : Traced<ShapedArray(float32[1])>with<DynamicJaxprTrace(level=2/0)> Traced<ShapedArray(float32[1])>with<DynamicJaxprTrace(level=2/0)>\n",
      "\n",
      "                mean       std    median      5.0%     95.0%     n_eff     r_hat\n",
      "         c      1.65      1.02      2.00      0.00      3.00    446.00      1.00\n",
      "         x      1.30      2.06      1.69     -2.06      4.34    455.81      1.00\n",
      "\n",
      "CPU times: user 7.23 s, sys: 69.7 ms, total: 7.3 s\n",
      "Wall time: 7.24 s\n"
     ]
    }
   ],
   "source": [
    "%%time\n",
    "from numpyro.infer.mixed_hmc import MixedHMCGibbs\n",
    "\n",
    "kernel = MixedHMCGibbs(NUTS(model), num_trajectories=1)\n",
    "mcmc = MCMC(kernel, 1000, int(1e6), progress_bar=False)\n",
    "debug = False\n",
    "with optional(debug, disable_jit()), optional(debug, control_flow_prims_disabled()):\n",
    "    mcmc.run(random.PRNGKey(2), probs, locs)\n",
    "mcmc.print_summary()\n",
    "x_samples = mcmc.get_samples()[\"x\"]\n",
    "assert abs(jnp.mean(x_samples) - 1.3) < 0.1\n",
    "assert abs(jnp.var(x_samples) - 4.36) < 0.5"
   ]
  },
  {
   "cell_type": "code",
   "execution_count": 4,
   "metadata": {},
   "outputs": [
    {
     "data": {
      "image/png": "[encoded data removed]",
      "text/plain": [
       "<Figure size 432x288 with 1 Axes>"
      ]
     },
     "metadata": {
      "needs_background": "light"
     },
     "output_type": "display_data"
    }
   ],
   "source": [
    "import matplotlib.pyplot as plt\n",
    "import seaborn as sns\n",
    "\n",
    "sns.kdeplot(x_samples.reshape(-1).copy())\n",
    "sns.kdeplot(actual_samples.copy(), color=\"r\");"
   ]
  }
 ],
 "metadata": {
  "kernelspec": {
   "display_name": "Python 3",
   "language": "python",
   "name": "python3"
  },
  "language_info": {
   "codemirror_mode": {
    "name": "ipython",
    "version": 3
   },
   "file_extension": ".py",
   "mimetype": "text/x-python",
   "name": "python",
   "nbconvert_exporter": "python",
   "pygments_lexer": "ipython3",
   "version": "3.8.5"
  }
 },
 "nbformat": 4,
 "nbformat_minor": 4
}
